{
 "cells": [
  {
   "cell_type": "code",
   "execution_count": 2,
   "id": "786003ee",
   "metadata": {},
   "outputs": [],
   "source": [
    "import pandas as pd\n",
    "import openpyxl"
   ]
  },
  {
   "cell_type": "code",
   "execution_count": 3,
   "id": "2d5d803f",
   "metadata": {},
   "outputs": [],
   "source": [
    "df = pd.read_csv(r\"C:\\Users\\rishabhtripathi1\\OneDrive - KPMG\\Documents\\conso.csv\")"
   ]
  },
  {
   "cell_type": "code",
   "execution_count": 4,
   "id": "ccad7ae8",
   "metadata": {},
   "outputs": [],
   "source": [
    "columns = ['Bank Name', 'Date', 'Description', 'Amount in Bank', 'HL', 'P', 'I',\n",
    "       'IN1', 'P1', 'I1', 'IN2', 'P2', 'I2', 'IN3', 'P3', 'I3', 'IN4', 'P4',\n",
    "       'I4', 'Check']\n",
    "no_insurance = pd.DataFrame(columns = columns)\n",
    "single_insurance = pd.DataFrame(columns = columns)\n",
    "double_insurance = pd.DataFrame(columns = columns)\n",
    "triple_insurance = pd.DataFrame(columns = columns)\n",
    "quad_insurance = pd.DataFrame(columns = columns)"
   ]
  },
  {
   "cell_type": "code",
   "execution_count": 5,
   "id": "3027f324",
   "metadata": {},
   "outputs": [
    {
     "name": "stdout",
     "output_type": "stream",
     "text": [
      "1325\n",
      "3076\n",
      "53\n",
      "0\n",
      "438\n",
      "4892\n",
      "      Bank Name      Date   Description Amount in Bank            HL       P  \\\n",
      "4891  HDFC 3357  7-Jul-21  700778229702        915.00   LAI-00132192  1290.6   \n",
      "\n",
      "          I IN1 P1 I1 IN2   P2   I2 IN3   P3   I3  IN4   P4   I4   Check  \n",
      "4891  536.6   0  0  0   0  0.0  0.0   0  0.0  0.0  0.0  0.0  0.0  912.20  \n"
     ]
    }
   ],
   "source": [
    "count1,count2,count3,count4,count5 = 0,0,0,0,0\n",
    "for i in range(4892):\n",
    "    new = df.iloc[i:i+1,:]\n",
    "    if df.loc[i,\"IN1\"] == \"0\":\n",
    "        no_insurance.append(new)\n",
    "        count1+=1\n",
    "        \n",
    "    elif df.loc[i,\"IN2\"] == \"0\":\n",
    "        single_insurance.append(new)\n",
    "        count2+=1\n",
    "        \n",
    "    elif df.loc[i,\"IN3\"] == \"0\":\n",
    "        double_insurance.append(new)\n",
    "        count3+=1\n",
    "    \n",
    "    elif df.loc[i,\"IN4\"] == \"0\":\n",
    "        triple_insurance.append(new)\n",
    "        count4+=1\n",
    "        \n",
    "    \n",
    "    else:\n",
    "        quad_insurance.append(new)\n",
    "        count5+=1\n",
    "        \n",
    "print(count1)\n",
    "print(count2)\n",
    "print(count3)       \n",
    "print(count4)\n",
    "print(count5)\n",
    "print(count1+count2+count3+count4+count5)\n",
    "    \n",
    "'''print(count)\n",
    "print(no_insurance) \n",
    "type(new)'''\n",
    "print(new)"
   ]
  },
  {
   "cell_type": "code",
   "execution_count": 51,
   "id": "53169cae",
   "metadata": {},
   "outputs": [
    {
     "data": {
      "text/html": [
       "<div>\n",
       "<style scoped>\n",
       "    .dataframe tbody tr th:only-of-type {\n",
       "        vertical-align: middle;\n",
       "    }\n",
       "\n",
       "    .dataframe tbody tr th {\n",
       "        vertical-align: top;\n",
       "    }\n",
       "\n",
       "    .dataframe thead th {\n",
       "        text-align: right;\n",
       "    }\n",
       "</style>\n",
       "<table border=\"1\" class=\"dataframe\">\n",
       "  <thead>\n",
       "    <tr style=\"text-align: right;\">\n",
       "      <th></th>\n",
       "      <th>Bank Name</th>\n",
       "      <th>Date</th>\n",
       "      <th>Description</th>\n",
       "      <th>Amount in Bank</th>\n",
       "      <th>HL</th>\n",
       "      <th>P</th>\n",
       "      <th>I</th>\n",
       "      <th>IN1</th>\n",
       "      <th>P1</th>\n",
       "      <th>I1</th>\n",
       "      <th>IN2</th>\n",
       "      <th>P2</th>\n",
       "      <th>I2</th>\n",
       "      <th>IN3</th>\n",
       "      <th>P3</th>\n",
       "      <th>I3</th>\n",
       "      <th>IN4</th>\n",
       "      <th>P4</th>\n",
       "      <th>I4</th>\n",
       "      <th>Check</th>\n",
       "    </tr>\n",
       "  </thead>\n",
       "  <tbody>\n",
       "  </tbody>\n",
       "</table>\n",
       "</div>"
      ],
      "text/plain": [
       "Empty DataFrame\n",
       "Columns: [Bank Name, Date, Description, Amount in Bank, HL, P, I, IN1, P1, I1, IN2, P2, I2, IN3, P3, I3, IN4, P4, I4, Check]\n",
       "Index: []"
      ]
     },
     "execution_count": 51,
     "metadata": {},
     "output_type": "execute_result"
    }
   ],
   "source": [
    "no_insurance"
   ]
  },
  {
   "cell_type": "code",
   "execution_count": 52,
   "id": "042e69c8",
   "metadata": {},
   "outputs": [
    {
     "data": {
      "text/html": [
       "<div>\n",
       "<style scoped>\n",
       "    .dataframe tbody tr th:only-of-type {\n",
       "        vertical-align: middle;\n",
       "    }\n",
       "\n",
       "    .dataframe tbody tr th {\n",
       "        vertical-align: top;\n",
       "    }\n",
       "\n",
       "    .dataframe thead th {\n",
       "        text-align: right;\n",
       "    }\n",
       "</style>\n",
       "<table border=\"1\" class=\"dataframe\">\n",
       "  <thead>\n",
       "    <tr style=\"text-align: right;\">\n",
       "      <th></th>\n",
       "      <th>Bank Name</th>\n",
       "      <th>Date</th>\n",
       "      <th>Description</th>\n",
       "      <th>Amount in Bank</th>\n",
       "      <th>HL</th>\n",
       "      <th>P</th>\n",
       "      <th>I</th>\n",
       "      <th>IN1</th>\n",
       "      <th>P1</th>\n",
       "      <th>I1</th>\n",
       "      <th>IN2</th>\n",
       "      <th>P2</th>\n",
       "      <th>I2</th>\n",
       "      <th>IN3</th>\n",
       "      <th>P3</th>\n",
       "      <th>I3</th>\n",
       "      <th>IN4</th>\n",
       "      <th>P4</th>\n",
       "      <th>I4</th>\n",
       "      <th>Check</th>\n",
       "    </tr>\n",
       "  </thead>\n",
       "  <tbody>\n",
       "  </tbody>\n",
       "</table>\n",
       "</div>"
      ],
      "text/plain": [
       "Empty DataFrame\n",
       "Columns: [Bank Name, Date, Description, Amount in Bank, HL, P, I, IN1, P1, I1, IN2, P2, I2, IN3, P3, I3, IN4, P4, I4, Check]\n",
       "Index: []"
      ]
     },
     "execution_count": 52,
     "metadata": {},
     "output_type": "execute_result"
    }
   ],
   "source": [
    "single_insurance"
   ]
  },
  {
   "cell_type": "code",
   "execution_count": 53,
   "id": "a3210310",
   "metadata": {},
   "outputs": [
    {
     "data": {
      "text/html": [
       "<div>\n",
       "<style scoped>\n",
       "    .dataframe tbody tr th:only-of-type {\n",
       "        vertical-align: middle;\n",
       "    }\n",
       "\n",
       "    .dataframe tbody tr th {\n",
       "        vertical-align: top;\n",
       "    }\n",
       "\n",
       "    .dataframe thead th {\n",
       "        text-align: right;\n",
       "    }\n",
       "</style>\n",
       "<table border=\"1\" class=\"dataframe\">\n",
       "  <thead>\n",
       "    <tr style=\"text-align: right;\">\n",
       "      <th></th>\n",
       "      <th>Bank Name</th>\n",
       "      <th>Date</th>\n",
       "      <th>Description</th>\n",
       "      <th>Amount in Bank</th>\n",
       "      <th>HL</th>\n",
       "      <th>P</th>\n",
       "      <th>I</th>\n",
       "      <th>IN1</th>\n",
       "      <th>P1</th>\n",
       "      <th>I1</th>\n",
       "      <th>IN2</th>\n",
       "      <th>P2</th>\n",
       "      <th>I2</th>\n",
       "      <th>IN3</th>\n",
       "      <th>P3</th>\n",
       "      <th>I3</th>\n",
       "      <th>IN4</th>\n",
       "      <th>P4</th>\n",
       "      <th>I4</th>\n",
       "      <th>Check</th>\n",
       "    </tr>\n",
       "  </thead>\n",
       "  <tbody>\n",
       "  </tbody>\n",
       "</table>\n",
       "</div>"
      ],
      "text/plain": [
       "Empty DataFrame\n",
       "Columns: [Bank Name, Date, Description, Amount in Bank, HL, P, I, IN1, P1, I1, IN2, P2, I2, IN3, P3, I3, IN4, P4, I4, Check]\n",
       "Index: []"
      ]
     },
     "execution_count": 53,
     "metadata": {},
     "output_type": "execute_result"
    }
   ],
   "source": [
    "double_insurance"
   ]
  },
  {
   "cell_type": "code",
   "execution_count": 54,
   "id": "ee0e60dd",
   "metadata": {},
   "outputs": [
    {
     "data": {
      "text/html": [
       "<div>\n",
       "<style scoped>\n",
       "    .dataframe tbody tr th:only-of-type {\n",
       "        vertical-align: middle;\n",
       "    }\n",
       "\n",
       "    .dataframe tbody tr th {\n",
       "        vertical-align: top;\n",
       "    }\n",
       "\n",
       "    .dataframe thead th {\n",
       "        text-align: right;\n",
       "    }\n",
       "</style>\n",
       "<table border=\"1\" class=\"dataframe\">\n",
       "  <thead>\n",
       "    <tr style=\"text-align: right;\">\n",
       "      <th></th>\n",
       "      <th>Bank Name</th>\n",
       "      <th>Date</th>\n",
       "      <th>Description</th>\n",
       "      <th>Amount in Bank</th>\n",
       "      <th>HL</th>\n",
       "      <th>P</th>\n",
       "      <th>I</th>\n",
       "      <th>IN1</th>\n",
       "      <th>P1</th>\n",
       "      <th>I1</th>\n",
       "      <th>IN2</th>\n",
       "      <th>P2</th>\n",
       "      <th>I2</th>\n",
       "      <th>IN3</th>\n",
       "      <th>P3</th>\n",
       "      <th>I3</th>\n",
       "      <th>IN4</th>\n",
       "      <th>P4</th>\n",
       "      <th>I4</th>\n",
       "      <th>Check</th>\n",
       "    </tr>\n",
       "  </thead>\n",
       "  <tbody>\n",
       "  </tbody>\n",
       "</table>\n",
       "</div>"
      ],
      "text/plain": [
       "Empty DataFrame\n",
       "Columns: [Bank Name, Date, Description, Amount in Bank, HL, P, I, IN1, P1, I1, IN2, P2, I2, IN3, P3, I3, IN4, P4, I4, Check]\n",
       "Index: []"
      ]
     },
     "execution_count": 54,
     "metadata": {},
     "output_type": "execute_result"
    }
   ],
   "source": [
    "triple_insurance"
   ]
  },
  {
   "cell_type": "code",
   "execution_count": 55,
   "id": "1cbf7a9c",
   "metadata": {},
   "outputs": [
    {
     "data": {
      "text/html": [
       "<div>\n",
       "<style scoped>\n",
       "    .dataframe tbody tr th:only-of-type {\n",
       "        vertical-align: middle;\n",
       "    }\n",
       "\n",
       "    .dataframe tbody tr th {\n",
       "        vertical-align: top;\n",
       "    }\n",
       "\n",
       "    .dataframe thead th {\n",
       "        text-align: right;\n",
       "    }\n",
       "</style>\n",
       "<table border=\"1\" class=\"dataframe\">\n",
       "  <thead>\n",
       "    <tr style=\"text-align: right;\">\n",
       "      <th></th>\n",
       "      <th>Bank Name</th>\n",
       "      <th>Date</th>\n",
       "      <th>Description</th>\n",
       "      <th>Amount in Bank</th>\n",
       "      <th>HL</th>\n",
       "      <th>P</th>\n",
       "      <th>I</th>\n",
       "      <th>IN1</th>\n",
       "      <th>P1</th>\n",
       "      <th>I1</th>\n",
       "      <th>IN2</th>\n",
       "      <th>P2</th>\n",
       "      <th>I2</th>\n",
       "      <th>IN3</th>\n",
       "      <th>P3</th>\n",
       "      <th>I3</th>\n",
       "      <th>IN4</th>\n",
       "      <th>P4</th>\n",
       "      <th>I4</th>\n",
       "      <th>Check</th>\n",
       "    </tr>\n",
       "  </thead>\n",
       "  <tbody>\n",
       "  </tbody>\n",
       "</table>\n",
       "</div>"
      ],
      "text/plain": [
       "Empty DataFrame\n",
       "Columns: [Bank Name, Date, Description, Amount in Bank, HL, P, I, IN1, P1, I1, IN2, P2, I2, IN3, P3, I3, IN4, P4, I4, Check]\n",
       "Index: []"
      ]
     },
     "execution_count": 55,
     "metadata": {},
     "output_type": "execute_result"
    }
   ],
   "source": [
    "quad_insurance"
   ]
  },
  {
   "cell_type": "code",
   "execution_count": 59,
   "id": "b6fc2bb4",
   "metadata": {},
   "outputs": [
    {
     "ename": "AttributeError",
     "evalue": "module 'pandas' has no attribute 'to_excel'",
     "output_type": "error",
     "traceback": [
      "\u001b[1;31m---------------------------------------------------------------------------\u001b[0m",
      "\u001b[1;31mAttributeError\u001b[0m                            Traceback (most recent call last)",
      "\u001b[1;32m<ipython-input-59-30afcbcab5cb>\u001b[0m in \u001b[0;36m<module>\u001b[1;34m\u001b[0m\n\u001b[1;32m----> 1\u001b[1;33m \u001b[0mpd\u001b[0m\u001b[1;33m.\u001b[0m\u001b[0mto_excel\u001b[0m\u001b[1;33m(\u001b[0m\u001b[0mno_insurance\u001b[0m\u001b[1;33m)\u001b[0m\u001b[1;33m\u001b[0m\u001b[1;33m\u001b[0m\u001b[0m\n\u001b[0m",
      "\u001b[1;32m~\\Anaconda3\\lib\\site-packages\\pandas\\__init__.py\u001b[0m in \u001b[0;36m__getattr__\u001b[1;34m(name)\u001b[0m\n\u001b[0;32m    242\u001b[0m         \u001b[1;32mreturn\u001b[0m \u001b[0m_SparseArray\u001b[0m\u001b[1;33m\u001b[0m\u001b[1;33m\u001b[0m\u001b[0m\n\u001b[0;32m    243\u001b[0m \u001b[1;33m\u001b[0m\u001b[0m\n\u001b[1;32m--> 244\u001b[1;33m     \u001b[1;32mraise\u001b[0m \u001b[0mAttributeError\u001b[0m\u001b[1;33m(\u001b[0m\u001b[1;34mf\"module 'pandas' has no attribute '{name}'\"\u001b[0m\u001b[1;33m)\u001b[0m\u001b[1;33m\u001b[0m\u001b[1;33m\u001b[0m\u001b[0m\n\u001b[0m\u001b[0;32m    245\u001b[0m \u001b[1;33m\u001b[0m\u001b[0m\n\u001b[0;32m    246\u001b[0m \u001b[1;33m\u001b[0m\u001b[0m\n",
      "\u001b[1;31mAttributeError\u001b[0m: module 'pandas' has no attribute 'to_excel'"
     ]
    }
   ],
   "source": [
    "pd.to_excel(no_insurance)"
   ]
  },
  {
   "cell_type": "code",
   "execution_count": null,
   "id": "a462e7fa",
   "metadata": {},
   "outputs": [],
   "source": []
  }
 ],
 "metadata": {
  "kernelspec": {
   "display_name": "Python 3",
   "language": "python",
   "name": "python3"
  },
  "language_info": {
   "codemirror_mode": {
    "name": "ipython",
    "version": 3
   },
   "file_extension": ".py",
   "mimetype": "text/x-python",
   "name": "python",
   "nbconvert_exporter": "python",
   "pygments_lexer": "ipython3",
   "version": "3.8.8"
  }
 },
 "nbformat": 4,
 "nbformat_minor": 5
}
